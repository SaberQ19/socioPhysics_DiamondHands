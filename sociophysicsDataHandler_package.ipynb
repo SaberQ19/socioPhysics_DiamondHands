{
  "cells": [
    {
      "cell_type": "markdown",
      "metadata": {
        "id": "HciEOBp39NcP"
      },
      "source": [
        "# 3QEUS0 - Sociophysics 1\n",
        "## This Colab will explain how to install the SociophysicsDataHandler package\n",
        "\n",
        "### Contacts:\n",
        "*   A.Corbetta - a.corbetta@tue.nl\n",
        "*   C.Pouw     - c.a.s.pouw@tue.nl\n",
        "*   A.Gabbana  - a.gabbana@tue.nl  "
      ]
    },
    {
      "cell_type": "markdown",
      "metadata": {
        "id": "KYStEc4r3p0E"
      },
      "source": [
        "#### First, we need to install the API for accessing the data\n",
        "Note: If you work in colab you need to perform the installation everytime you start the notebook; if you work offline (jupyter notebook/lab) you need to do this just once"
      ]
    },
    {
      "cell_type": "code",
      "execution_count": null,
      "metadata": {
        "id": "LSpCVPgQ3p0J"
      },
      "outputs": [],
      "source": [
        "#!pip install -q sociophysicsDataHandler\n",
        "!pip install -q sociophysicsDataHandler"
      ]
    },
    {
      "cell_type": "code",
      "execution_count": null,
      "metadata": {},
      "outputs": [],
      "source": [
        "import pandas as pd\n",
        "print(pd.__version__)"
      ]
    },
    {
      "cell_type": "markdown",
      "metadata": {
        "id": "W4eZjcuD3p0V"
      },
      "source": [
        "Import the package"
      ]
    },
    {
      "cell_type": "code",
      "execution_count": null,
      "metadata": {
        "id": "sUL_ztxO3p0b"
      },
      "outputs": [],
      "source": [
        "from sociophysicsDataHandler import SociophysicsDataHandler"
      ]
    },
    {
      "cell_type": "markdown",
      "metadata": {
        "id": "srwQb2-33p0f"
      },
      "source": [
        "Try to create a datahandler object."
      ]
    },
    {
      "cell_type": "code",
      "execution_count": null,
      "metadata": {
        "id": "yN3VRsfp3p0m"
      },
      "outputs": [],
      "source": [
        "dh = SociophysicsDataHandler()"
      ]
    },
    {
      "cell_type": "markdown",
      "metadata": {
        "id": "S25g-7Pe3p0t"
      },
      "source": [
        "##### We get an error because we need to provide some credentials first.\n",
        "\n",
        "1. An empty credentials file is created for you. It is called 'auth.txt'.\n",
        "2. In colab, go to the left panel 'files'. You can change the content by double clicking on it.\n",
        "3. Paste the acces credentials (specified below) in the file and SAVE the file. (note, from time to me we change the credentials)\n",
        "````\n",
        "guest\n",
        "YDPGL-XREXC-QGMZS-UAKES\n",
        "````"
      ]
    },
    {
      "cell_type": "code",
      "execution_count": null,
      "metadata": {
        "id": "-eq0uZJE3p0w",
        "outputId": "855afa36-e00e-42ba-de15-716631c74b5a"
      },
      "outputs": [],
      "source": [
        "# If you have done things correctly, this command should return you your own credentials\n",
        "!cat auth.txt"
      ]
    },
    {
      "cell_type": "markdown",
      "metadata": {
        "id": "4gO1uoKG3p01"
      },
      "source": [
        "Note: If you work in colab you need to create the `auth.txt` file everytime; if you work offline (jupyter notebook/lab) you need to do this just once."
      ]
    },
    {
      "cell_type": "markdown",
      "metadata": {
        "id": "EEZfVYD33p02"
      },
      "source": [
        "### With the right credentials we can create the datahandler object."
      ]
    },
    {
      "cell_type": "code",
      "execution_count": null,
      "metadata": {
        "id": "9IlqixHL3p06"
      },
      "outputs": [],
      "source": [
        "dh = SociophysicsDataHandler()"
      ]
    },
    {
      "cell_type": "markdown",
      "metadata": {
        "id": "BmFuZhf93p15"
      },
      "source": [
        "We can use the datahandler object to read the data that is provided to you in this course. However, to understand how and which data you can read it is convenient to first list the folders available on the storage.\n",
        "\n",
        "The ouput of the cell below shows which files and folders area available to you.\n",
        " - All the data for the social media/ stocks case can be found in the 'econophysics' folder.\n",
        " - The trajectory data for the crowdflow case is separated based on where it is recorded: ehv -> Eindhoven, asdz -> Amsterdam Zuid, and ut -> Utrecht."
      ]
    },
    {
      "cell_type": "code",
      "execution_count": null,
      "metadata": {
        "id": "kTIFrJvx3p2B",
        "outputId": "cce473e8-d4ad-4e64-bd0a-5583bef2e2e4"
      },
      "outputs": [],
      "source": [
        "folder_path = 'econophysics'\n",
        "dh.list_files(folder_path)\n",
        "\n",
        "for path in dh.filelist['path']:\n",
        "    print(path)"
      ]
    },
    {
      "cell_type": "markdown",
      "metadata": {
        "id": "B7FED4GW3p2E"
      },
      "source": [
        "#### Example ProRail data"
      ]
    },
    {
      "cell_type": "markdown",
      "metadata": {
        "id": "IXIJFMyz3p2G"
      },
      "source": [
        "The cell below lists  all the files recorded in Eindhoven for a specific day."
      ]
    },
    {
      "cell_type": "code",
      "execution_count": null,
      "metadata": {
        "id": "fzFBizUb3p2H",
        "outputId": "9c9392e0-eab3-4193-a216-d581983001b5"
      },
      "outputs": [],
      "source": [
        "folder_path = 'ehv/platform2.1/20230428/'\n",
        "dh.list_files(folder_path)"
      ]
    },
    {
      "cell_type": "markdown",
      "metadata": {
        "id": "fpEEfhNL3p2I"
      },
      "source": [
        "We can use the datahandler to read one of the files."
      ]
    },
    {
      "cell_type": "code",
      "execution_count": null,
      "metadata": {
        "id": "TB4PKHNu3p2J",
        "outputId": "c7e49ed3-7bdb-4021-c3d4-c864fc269980"
      },
      "outputs": [],
      "source": [
        "file_target = \"EHV_Platform2.1_2023042819_trajectorie.parquet\"\n",
        "file_path = folder_path + file_target\n",
        "dh.fetch_prorail_data_from_path(file_path) # Read the data\n",
        "dh.df.head() # Display first 5 rows"
      ]
    },
    {
      "cell_type": "markdown",
      "metadata": {
        "id": "U_jRn82V3p2L"
      },
      "source": [
        "For more advanced usage, please refer to the notebook `trajectory_analysis.ipynb`."
      ]
    },
    {
      "cell_type": "markdown",
      "metadata": {
        "id": "2Fuaj-HU3p2L"
      },
      "source": [
        "#### Example Druyfkens data"
      ]
    },
    {
      "cell_type": "markdown",
      "metadata": {
        "id": "vmU0Id5I3p2L"
      },
      "source": [
        "We can do a similar thing for the stockprice data provide by Druyfkens."
      ]
    },
    {
      "cell_type": "code",
      "execution_count": null,
      "metadata": {
        "id": "OjEfaZ2h3p2M",
        "outputId": "c4ffab55-cad8-4fc0-e28a-a8ddf0a93b2b"
      },
      "outputs": [],
      "source": [
        "folder_path = 'econophysics/prices'\n",
        "dh.list_files(folder_path)"
      ]
    },
    {
      "cell_type": "code",
      "execution_count": null,
      "metadata": {
        "id": "1EsLwDL_3p2h",
        "outputId": "fb6bc8eb-c30f-4c6c-be9c-8176c7395d41"
      },
      "outputs": [],
      "source": [
        "dh.fetch_econophysics_data_from_path(\"econophysics/prices/daily_open_prices.csv\") # Read the data\n",
        "dh.df.head() # Display first 5 rows"
      ]
    },
    {
      "cell_type": "markdown",
      "metadata": {
        "id": "HrGxTclT3p2n"
      },
      "source": [
        "For more advance usage we refer to the notebooks in this repo https://github.com/ValerioGemm/socioPhysicsTUe_econ."
      ]
    }
  ],
  "metadata": {
    "colab": {
      "name": "sociophysicsDataHandler-package.ipynb",
      "provenance": [],
      "toc_visible": true
    },
    "kernelspec": {
      "display_name": "Python 3",
      "language": "python",
      "name": "python3"
    },
    "language_info": {
      "codemirror_mode": {
        "name": "ipython",
        "version": 3
      },
      "file_extension": ".py",
      "mimetype": "text/x-python",
      "name": "python",
      "nbconvert_exporter": "python",
      "pygments_lexer": "ipython3",
      "version": "3.8.8"
    }
  },
  "nbformat": 4,
  "nbformat_minor": 0
}
