{
  "cells": [
    {
      "cell_type": "markdown",
      "metadata": {
        "id": "HciEOBp39NcP"
      },
      "source": [
        "# 3QEUS0 - Sociophysics 1\n",
        "## This Colab will explain how to install the SociophysicsDataHandler package\n",
        "\n",
        "### Contacts:\n",
        "*   A.Corbetta - a.corbetta@tue.nl\n",
        "*   C.Pouw     - c.a.s.pouw@tue.nl\n",
        "*   A.Gabbana  - a.gabbana@tue.nl  "
      ]
    },
    {
      "cell_type": "markdown",
      "metadata": {
        "id": "KYStEc4r3p0E"
      },
      "source": [
        "#### First, we need to install the API for accessing the data\n",
        "Note: If you work in colab you need to perform the installation everytime you start the notebook; if you work offline (jupyter notebook/lab) you need to do this just once"
      ]
    },
    {
      "cell_type": "code",
      "execution_count": null,
      "metadata": {
        "id": "LSpCVPgQ3p0J"
      },
      "outputs": [],
      "source": [
        "!pip install -q sociophysicsDataHandler"
      ]
    },
    {
      "cell_type": "markdown",
      "metadata": {
        "id": "W4eZjcuD3p0V"
      },
      "source": [
        "Import the package"
      ]
    },
    {
      "cell_type": "code",
      "execution_count": null,
      "metadata": {
        "id": "sUL_ztxO3p0b"
      },
      "outputs": [],
      "source": [
        "from sociophysicsDataHandler import SociophysicsDataHandler"
      ]
    },
    {
      "cell_type": "markdown",
      "metadata": {
        "id": "srwQb2-33p0f"
      },
      "source": [
        "Try to create a datahandler object."
      ]
    },
    {
      "cell_type": "code",
      "execution_count": null,
      "metadata": {
        "id": "yN3VRsfp3p0m"
      },
      "outputs": [],
      "source": [
        "dh = SociophysicsDataHandler()"
      ]
    },
    {
      "cell_type": "markdown",
      "metadata": {
        "id": "S25g-7Pe3p0t"
      },
      "source": [
        "##### We get an error because we need to provide some credentials first.\n",
        "\n",
        "1. An empty credentials file is created for you. It is called 'auth.txt'.\n",
        "2. In colab, go to the left panel 'files'. You can change the content by double clicking on it.\n",
        "3. Paste the acces credentials (specified below) in the file and SAVE the file. (note, from time to me we change the credentials)\n",
        "````\n",
        "guest\n",
        "YDPGL-XREXC-QGMZS-UAKES\n",
        "````"
      ]
    },
    {
      "cell_type": "code",
      "execution_count": null,
      "metadata": {
        "id": "-eq0uZJE3p0w",
        "outputId": "855afa36-e00e-42ba-de15-716631c74b5a"
      },
      "outputs": [
        {
          "name": "stdout",
          "output_type": "stream",
          "text": [
            "guest\n",
            "YDPGL-XREXC-QGMZS-UAKES"
          ]
        }
      ],
      "source": [
        "# If you have done things correctly, this command should return you your own credentials\n",
        "!cat auth.txt"
      ]
    },
    {
      "cell_type": "markdown",
      "metadata": {
        "id": "4gO1uoKG3p01"
      },
      "source": [
        "Note: If you work in colab you need to create the `auth.txt` file everytime; if you work offline (jupyter notebook/lab) you need to do this just once."
      ]
    },
    {
      "cell_type": "markdown",
      "metadata": {
        "id": "EEZfVYD33p02"
      },
      "source": [
        "### With the right credentials we can create the datahandler object."
      ]
    },
    {
      "cell_type": "code",
      "execution_count": null,
      "metadata": {
        "id": "9IlqixHL3p06"
      },
      "outputs": [],
      "source": [
        "dh = SociophysicsDataHandler()"
      ]
    },
    {
      "cell_type": "markdown",
      "metadata": {
        "id": "BmFuZhf93p15"
      },
      "source": [
        "We can use the datahandler object to read the data that is provided to you in this course. However, to understand how and which data you can read it is convenient to first list the folders available on the storage.\n",
        "\n",
        "The ouput of the cell below shows which files and folders area available to you.\n",
        " - All the data for the social media/ stocks case can be found in the 'econophysics' folder.\n",
        " - The trajectory data for the crowdflow case is separated based on where it is recorded: ehv -> Eindhoven, asdz -> Amsterdam Zuid, and ut -> Utrecht."
      ]
    },
    {
      "cell_type": "code",
      "execution_count": null,
      "metadata": {
        "id": "kTIFrJvx3p2B",
        "outputId": "cce473e8-d4ad-4e64-bd0a-5583bef2e2e4"
      },
      "outputs": [
        {
          "name": "stdout",
          "output_type": "stream",
          "text": [
            "targeting path /storage/surfsara/ProRail_USE_LL_data/\n",
            "Files listed. Accessible as <this-object>.filelist\n"
          ]
        },
        {
          "data": {
            "text/html": [
              "<div>\n",
              "<style scoped>\n",
              "    .dataframe tbody tr th:only-of-type {\n",
              "        vertical-align: middle;\n",
              "    }\n",
              "\n",
              "    .dataframe tbody tr th {\n",
              "        vertical-align: top;\n",
              "    }\n",
              "\n",
              "    .dataframe thead th {\n",
              "        text-align: right;\n",
              "    }\n",
              "</style>\n",
              "<table border=\"1\" class=\"dataframe\">\n",
              "  <thead>\n",
              "    <tr style=\"text-align: right;\">\n",
              "      <th></th>\n",
              "      <th>path</th>\n",
              "      <th>name</th>\n",
              "      <th>attributes</th>\n",
              "    </tr>\n",
              "  </thead>\n",
              "  <tbody>\n",
              "    <tr>\n",
              "      <th>0</th>\n",
              "      <td>/storage/surfsara/ProRail_USE_LL_data/asdz/</td>\n",
              "      <td>asdz</td>\n",
              "      <td>{'{DAV:}getlastmodified': 'Mon, 12 Sep 2022 15...</td>\n",
              "    </tr>\n",
              "    <tr>\n",
              "      <th>1</th>\n",
              "      <td>/storage/surfsara/ProRail_USE_LL_data/config/</td>\n",
              "      <td>config</td>\n",
              "      <td>{'{DAV:}getlastmodified': 'Mon, 12 Sep 2022 15...</td>\n",
              "    </tr>\n",
              "    <tr>\n",
              "      <th>2</th>\n",
              "      <td>/storage/surfsara/ProRail_USE_LL_data/econophy...</td>\n",
              "      <td>econophysics</td>\n",
              "      <td>{'{DAV:}getlastmodified': 'Mon, 12 Sep 2022 15...</td>\n",
              "    </tr>\n",
              "    <tr>\n",
              "      <th>3</th>\n",
              "      <td>/storage/surfsara/ProRail_USE_LL_data/ehv/</td>\n",
              "      <td>ehv</td>\n",
              "      <td>{'{DAV:}getlastmodified': 'Mon, 11 Sep 2023 17...</td>\n",
              "    </tr>\n",
              "    <tr>\n",
              "      <th>4</th>\n",
              "      <td>/storage/surfsara/ProRail_USE_LL_data/sync.sh</td>\n",
              "      <td>sync.sh</td>\n",
              "      <td>{'{DAV:}getlastmodified': 'Wed, 02 Mar 2022 18...</td>\n",
              "    </tr>\n",
              "    <tr>\n",
              "      <th>5</th>\n",
              "      <td>/storage/surfsara/ProRail_USE_LL_data/upload_l...</td>\n",
              "      <td>upload_log.csv</td>\n",
              "      <td>{'{DAV:}getlastmodified': 'Wed, 13 Oct 2021 10...</td>\n",
              "    </tr>\n",
              "    <tr>\n",
              "      <th>6</th>\n",
              "      <td>/storage/surfsara/ProRail_USE_LL_data/ut/</td>\n",
              "      <td>ut</td>\n",
              "      <td>{'{DAV:}getlastmodified': 'Mon, 12 Sep 2022 15...</td>\n",
              "    </tr>\n",
              "  </tbody>\n",
              "</table>\n",
              "</div>"
            ],
            "text/plain": [
              "                                                path            name  \\\n",
              "0        /storage/surfsara/ProRail_USE_LL_data/asdz/            asdz   \n",
              "1      /storage/surfsara/ProRail_USE_LL_data/config/          config   \n",
              "2  /storage/surfsara/ProRail_USE_LL_data/econophy...    econophysics   \n",
              "3         /storage/surfsara/ProRail_USE_LL_data/ehv/             ehv   \n",
              "4      /storage/surfsara/ProRail_USE_LL_data/sync.sh         sync.sh   \n",
              "5  /storage/surfsara/ProRail_USE_LL_data/upload_l...  upload_log.csv   \n",
              "6          /storage/surfsara/ProRail_USE_LL_data/ut/              ut   \n",
              "\n",
              "                                          attributes  \n",
              "0  {'{DAV:}getlastmodified': 'Mon, 12 Sep 2022 15...  \n",
              "1  {'{DAV:}getlastmodified': 'Mon, 12 Sep 2022 15...  \n",
              "2  {'{DAV:}getlastmodified': 'Mon, 12 Sep 2022 15...  \n",
              "3  {'{DAV:}getlastmodified': 'Mon, 11 Sep 2023 17...  \n",
              "4  {'{DAV:}getlastmodified': 'Wed, 02 Mar 2022 18...  \n",
              "5  {'{DAV:}getlastmodified': 'Wed, 13 Oct 2021 10...  \n",
              "6  {'{DAV:}getlastmodified': 'Mon, 12 Sep 2022 15...  "
            ]
          },
          "execution_count": 7,
          "metadata": {},
          "output_type": "execute_result"
        }
      ],
      "source": [
        "folder_path = ''\n",
        "dh.list_files(folder_path)"
      ]
    },
    {
      "cell_type": "markdown",
      "metadata": {
        "id": "B7FED4GW3p2E"
      },
      "source": [
        "#### Example ProRail data"
      ]
    },
    {
      "cell_type": "markdown",
      "metadata": {
        "id": "IXIJFMyz3p2G"
      },
      "source": [
        "The cell below lists  all the files recorded in Eindhoven for a specific day."
      ]
    },
    {
      "cell_type": "code",
      "execution_count": null,
      "metadata": {
        "id": "fzFBizUb3p2H",
        "outputId": "9c9392e0-eab3-4193-a216-d581983001b5"
      },
      "outputs": [
        {
          "name": "stdout",
          "output_type": "stream",
          "text": [
            "targeting path /storage/surfsara/ProRail_USE_LL_data/ehv/platform2.1/20230428/\n",
            "Files listed. Accessible as <this-object>.filelist\n"
          ]
        },
        {
          "data": {
            "text/html": [
              "<div>\n",
              "<style scoped>\n",
              "    .dataframe tbody tr th:only-of-type {\n",
              "        vertical-align: middle;\n",
              "    }\n",
              "\n",
              "    .dataframe tbody tr th {\n",
              "        vertical-align: top;\n",
              "    }\n",
              "\n",
              "    .dataframe thead th {\n",
              "        text-align: right;\n",
              "    }\n",
              "</style>\n",
              "<table border=\"1\" class=\"dataframe\">\n",
              "  <thead>\n",
              "    <tr style=\"text-align: right;\">\n",
              "      <th></th>\n",
              "      <th>path</th>\n",
              "      <th>name</th>\n",
              "      <th>attributes</th>\n",
              "    </tr>\n",
              "  </thead>\n",
              "  <tbody>\n",
              "    <tr>\n",
              "      <th>0</th>\n",
              "      <td>/storage/surfsara/ProRail_USE_LL_data/ehv/plat...</td>\n",
              "      <td>EHV_Platform2.1_2023042800_trajectorie.parquet</td>\n",
              "      <td>{'{DAV:}getlastmodified': 'Mon, 11 Sep 2023 14...</td>\n",
              "    </tr>\n",
              "    <tr>\n",
              "      <th>1</th>\n",
              "      <td>/storage/surfsara/ProRail_USE_LL_data/ehv/plat...</td>\n",
              "      <td>EHV_Platform2.1_2023042801_trajectorie.parquet</td>\n",
              "      <td>{'{DAV:}getlastmodified': 'Mon, 11 Sep 2023 14...</td>\n",
              "    </tr>\n",
              "    <tr>\n",
              "      <th>2</th>\n",
              "      <td>/storage/surfsara/ProRail_USE_LL_data/ehv/plat...</td>\n",
              "      <td>EHV_Platform2.1_2023042802_trajectorie.parquet</td>\n",
              "      <td>{'{DAV:}getlastmodified': 'Mon, 11 Sep 2023 14...</td>\n",
              "    </tr>\n",
              "    <tr>\n",
              "      <th>3</th>\n",
              "      <td>/storage/surfsara/ProRail_USE_LL_data/ehv/plat...</td>\n",
              "      <td>EHV_Platform2.1_2023042803_trajectorie.parquet</td>\n",
              "      <td>{'{DAV:}getlastmodified': 'Mon, 11 Sep 2023 14...</td>\n",
              "    </tr>\n",
              "    <tr>\n",
              "      <th>4</th>\n",
              "      <td>/storage/surfsara/ProRail_USE_LL_data/ehv/plat...</td>\n",
              "      <td>EHV_Platform2.1_2023042804_trajectorie.parquet</td>\n",
              "      <td>{'{DAV:}getlastmodified': 'Mon, 11 Sep 2023 14...</td>\n",
              "    </tr>\n",
              "    <tr>\n",
              "      <th>5</th>\n",
              "      <td>/storage/surfsara/ProRail_USE_LL_data/ehv/plat...</td>\n",
              "      <td>EHV_Platform2.1_2023042805_trajectorie.parquet</td>\n",
              "      <td>{'{DAV:}getlastmodified': 'Mon, 11 Sep 2023 14...</td>\n",
              "    </tr>\n",
              "    <tr>\n",
              "      <th>6</th>\n",
              "      <td>/storage/surfsara/ProRail_USE_LL_data/ehv/plat...</td>\n",
              "      <td>EHV_Platform2.1_2023042806_trajectorie.parquet</td>\n",
              "      <td>{'{DAV:}getlastmodified': 'Mon, 11 Sep 2023 14...</td>\n",
              "    </tr>\n",
              "    <tr>\n",
              "      <th>7</th>\n",
              "      <td>/storage/surfsara/ProRail_USE_LL_data/ehv/plat...</td>\n",
              "      <td>EHV_Platform2.1_2023042807_trajectorie.parquet</td>\n",
              "      <td>{'{DAV:}getlastmodified': 'Mon, 11 Sep 2023 14...</td>\n",
              "    </tr>\n",
              "    <tr>\n",
              "      <th>8</th>\n",
              "      <td>/storage/surfsara/ProRail_USE_LL_data/ehv/plat...</td>\n",
              "      <td>EHV_Platform2.1_2023042808_trajectorie.parquet</td>\n",
              "      <td>{'{DAV:}getlastmodified': 'Mon, 11 Sep 2023 14...</td>\n",
              "    </tr>\n",
              "    <tr>\n",
              "      <th>9</th>\n",
              "      <td>/storage/surfsara/ProRail_USE_LL_data/ehv/plat...</td>\n",
              "      <td>EHV_Platform2.1_2023042809_trajectorie.parquet</td>\n",
              "      <td>{'{DAV:}getlastmodified': 'Mon, 11 Sep 2023 14...</td>\n",
              "    </tr>\n",
              "    <tr>\n",
              "      <th>10</th>\n",
              "      <td>/storage/surfsara/ProRail_USE_LL_data/ehv/plat...</td>\n",
              "      <td>EHV_Platform2.1_2023042810_trajectorie.parquet</td>\n",
              "      <td>{'{DAV:}getlastmodified': 'Mon, 11 Sep 2023 14...</td>\n",
              "    </tr>\n",
              "    <tr>\n",
              "      <th>11</th>\n",
              "      <td>/storage/surfsara/ProRail_USE_LL_data/ehv/plat...</td>\n",
              "      <td>EHV_Platform2.1_2023042811_trajectorie.parquet</td>\n",
              "      <td>{'{DAV:}getlastmodified': 'Mon, 11 Sep 2023 14...</td>\n",
              "    </tr>\n",
              "    <tr>\n",
              "      <th>12</th>\n",
              "      <td>/storage/surfsara/ProRail_USE_LL_data/ehv/plat...</td>\n",
              "      <td>EHV_Platform2.1_2023042812_trajectorie.parquet</td>\n",
              "      <td>{'{DAV:}getlastmodified': 'Mon, 11 Sep 2023 14...</td>\n",
              "    </tr>\n",
              "    <tr>\n",
              "      <th>13</th>\n",
              "      <td>/storage/surfsara/ProRail_USE_LL_data/ehv/plat...</td>\n",
              "      <td>EHV_Platform2.1_2023042813_trajectorie.parquet</td>\n",
              "      <td>{'{DAV:}getlastmodified': 'Mon, 11 Sep 2023 14...</td>\n",
              "    </tr>\n",
              "    <tr>\n",
              "      <th>14</th>\n",
              "      <td>/storage/surfsara/ProRail_USE_LL_data/ehv/plat...</td>\n",
              "      <td>EHV_Platform2.1_2023042814_trajectorie.parquet</td>\n",
              "      <td>{'{DAV:}getlastmodified': 'Mon, 11 Sep 2023 14...</td>\n",
              "    </tr>\n",
              "    <tr>\n",
              "      <th>15</th>\n",
              "      <td>/storage/surfsara/ProRail_USE_LL_data/ehv/plat...</td>\n",
              "      <td>EHV_Platform2.1_2023042815_trajectorie.parquet</td>\n",
              "      <td>{'{DAV:}getlastmodified': 'Mon, 11 Sep 2023 14...</td>\n",
              "    </tr>\n",
              "    <tr>\n",
              "      <th>16</th>\n",
              "      <td>/storage/surfsara/ProRail_USE_LL_data/ehv/plat...</td>\n",
              "      <td>EHV_Platform2.1_2023042816_trajectorie.parquet</td>\n",
              "      <td>{'{DAV:}getlastmodified': 'Mon, 11 Sep 2023 14...</td>\n",
              "    </tr>\n",
              "    <tr>\n",
              "      <th>17</th>\n",
              "      <td>/storage/surfsara/ProRail_USE_LL_data/ehv/plat...</td>\n",
              "      <td>EHV_Platform2.1_2023042817_trajectorie.parquet</td>\n",
              "      <td>{'{DAV:}getlastmodified': 'Mon, 11 Sep 2023 14...</td>\n",
              "    </tr>\n",
              "    <tr>\n",
              "      <th>18</th>\n",
              "      <td>/storage/surfsara/ProRail_USE_LL_data/ehv/plat...</td>\n",
              "      <td>EHV_Platform2.1_2023042818_trajectorie.parquet</td>\n",
              "      <td>{'{DAV:}getlastmodified': 'Mon, 11 Sep 2023 14...</td>\n",
              "    </tr>\n",
              "    <tr>\n",
              "      <th>19</th>\n",
              "      <td>/storage/surfsara/ProRail_USE_LL_data/ehv/plat...</td>\n",
              "      <td>EHV_Platform2.1_2023042819_trajectorie.parquet</td>\n",
              "      <td>{'{DAV:}getlastmodified': 'Mon, 11 Sep 2023 14...</td>\n",
              "    </tr>\n",
              "    <tr>\n",
              "      <th>20</th>\n",
              "      <td>/storage/surfsara/ProRail_USE_LL_data/ehv/plat...</td>\n",
              "      <td>EHV_Platform2.1_2023042820_trajectorie.parquet</td>\n",
              "      <td>{'{DAV:}getlastmodified': 'Mon, 11 Sep 2023 14...</td>\n",
              "    </tr>\n",
              "    <tr>\n",
              "      <th>21</th>\n",
              "      <td>/storage/surfsara/ProRail_USE_LL_data/ehv/plat...</td>\n",
              "      <td>EHV_Platform2.1_2023042821_trajectorie.parquet</td>\n",
              "      <td>{'{DAV:}getlastmodified': 'Mon, 11 Sep 2023 14...</td>\n",
              "    </tr>\n",
              "    <tr>\n",
              "      <th>22</th>\n",
              "      <td>/storage/surfsara/ProRail_USE_LL_data/ehv/plat...</td>\n",
              "      <td>EHV_Platform2.1_2023042822_trajectorie.parquet</td>\n",
              "      <td>{'{DAV:}getlastmodified': 'Mon, 11 Sep 2023 14...</td>\n",
              "    </tr>\n",
              "    <tr>\n",
              "      <th>23</th>\n",
              "      <td>/storage/surfsara/ProRail_USE_LL_data/ehv/plat...</td>\n",
              "      <td>EHV_Platform2.1_2023042823_trajectorie.parquet</td>\n",
              "      <td>{'{DAV:}getlastmodified': 'Mon, 11 Sep 2023 14...</td>\n",
              "    </tr>\n",
              "  </tbody>\n",
              "</table>\n",
              "</div>"
            ],
            "text/plain": [
              "                                                 path  \\\n",
              "0   /storage/surfsara/ProRail_USE_LL_data/ehv/plat...   \n",
              "1   /storage/surfsara/ProRail_USE_LL_data/ehv/plat...   \n",
              "2   /storage/surfsara/ProRail_USE_LL_data/ehv/plat...   \n",
              "3   /storage/surfsara/ProRail_USE_LL_data/ehv/plat...   \n",
              "4   /storage/surfsara/ProRail_USE_LL_data/ehv/plat...   \n",
              "5   /storage/surfsara/ProRail_USE_LL_data/ehv/plat...   \n",
              "6   /storage/surfsara/ProRail_USE_LL_data/ehv/plat...   \n",
              "7   /storage/surfsara/ProRail_USE_LL_data/ehv/plat...   \n",
              "8   /storage/surfsara/ProRail_USE_LL_data/ehv/plat...   \n",
              "9   /storage/surfsara/ProRail_USE_LL_data/ehv/plat...   \n",
              "10  /storage/surfsara/ProRail_USE_LL_data/ehv/plat...   \n",
              "11  /storage/surfsara/ProRail_USE_LL_data/ehv/plat...   \n",
              "12  /storage/surfsara/ProRail_USE_LL_data/ehv/plat...   \n",
              "13  /storage/surfsara/ProRail_USE_LL_data/ehv/plat...   \n",
              "14  /storage/surfsara/ProRail_USE_LL_data/ehv/plat...   \n",
              "15  /storage/surfsara/ProRail_USE_LL_data/ehv/plat...   \n",
              "16  /storage/surfsara/ProRail_USE_LL_data/ehv/plat...   \n",
              "17  /storage/surfsara/ProRail_USE_LL_data/ehv/plat...   \n",
              "18  /storage/surfsara/ProRail_USE_LL_data/ehv/plat...   \n",
              "19  /storage/surfsara/ProRail_USE_LL_data/ehv/plat...   \n",
              "20  /storage/surfsara/ProRail_USE_LL_data/ehv/plat...   \n",
              "21  /storage/surfsara/ProRail_USE_LL_data/ehv/plat...   \n",
              "22  /storage/surfsara/ProRail_USE_LL_data/ehv/plat...   \n",
              "23  /storage/surfsara/ProRail_USE_LL_data/ehv/plat...   \n",
              "\n",
              "                                              name  \\\n",
              "0   EHV_Platform2.1_2023042800_trajectorie.parquet   \n",
              "1   EHV_Platform2.1_2023042801_trajectorie.parquet   \n",
              "2   EHV_Platform2.1_2023042802_trajectorie.parquet   \n",
              "3   EHV_Platform2.1_2023042803_trajectorie.parquet   \n",
              "4   EHV_Platform2.1_2023042804_trajectorie.parquet   \n",
              "5   EHV_Platform2.1_2023042805_trajectorie.parquet   \n",
              "6   EHV_Platform2.1_2023042806_trajectorie.parquet   \n",
              "7   EHV_Platform2.1_2023042807_trajectorie.parquet   \n",
              "8   EHV_Platform2.1_2023042808_trajectorie.parquet   \n",
              "9   EHV_Platform2.1_2023042809_trajectorie.parquet   \n",
              "10  EHV_Platform2.1_2023042810_trajectorie.parquet   \n",
              "11  EHV_Platform2.1_2023042811_trajectorie.parquet   \n",
              "12  EHV_Platform2.1_2023042812_trajectorie.parquet   \n",
              "13  EHV_Platform2.1_2023042813_trajectorie.parquet   \n",
              "14  EHV_Platform2.1_2023042814_trajectorie.parquet   \n",
              "15  EHV_Platform2.1_2023042815_trajectorie.parquet   \n",
              "16  EHV_Platform2.1_2023042816_trajectorie.parquet   \n",
              "17  EHV_Platform2.1_2023042817_trajectorie.parquet   \n",
              "18  EHV_Platform2.1_2023042818_trajectorie.parquet   \n",
              "19  EHV_Platform2.1_2023042819_trajectorie.parquet   \n",
              "20  EHV_Platform2.1_2023042820_trajectorie.parquet   \n",
              "21  EHV_Platform2.1_2023042821_trajectorie.parquet   \n",
              "22  EHV_Platform2.1_2023042822_trajectorie.parquet   \n",
              "23  EHV_Platform2.1_2023042823_trajectorie.parquet   \n",
              "\n",
              "                                           attributes  \n",
              "0   {'{DAV:}getlastmodified': 'Mon, 11 Sep 2023 14...  \n",
              "1   {'{DAV:}getlastmodified': 'Mon, 11 Sep 2023 14...  \n",
              "2   {'{DAV:}getlastmodified': 'Mon, 11 Sep 2023 14...  \n",
              "3   {'{DAV:}getlastmodified': 'Mon, 11 Sep 2023 14...  \n",
              "4   {'{DAV:}getlastmodified': 'Mon, 11 Sep 2023 14...  \n",
              "5   {'{DAV:}getlastmodified': 'Mon, 11 Sep 2023 14...  \n",
              "6   {'{DAV:}getlastmodified': 'Mon, 11 Sep 2023 14...  \n",
              "7   {'{DAV:}getlastmodified': 'Mon, 11 Sep 2023 14...  \n",
              "8   {'{DAV:}getlastmodified': 'Mon, 11 Sep 2023 14...  \n",
              "9   {'{DAV:}getlastmodified': 'Mon, 11 Sep 2023 14...  \n",
              "10  {'{DAV:}getlastmodified': 'Mon, 11 Sep 2023 14...  \n",
              "11  {'{DAV:}getlastmodified': 'Mon, 11 Sep 2023 14...  \n",
              "12  {'{DAV:}getlastmodified': 'Mon, 11 Sep 2023 14...  \n",
              "13  {'{DAV:}getlastmodified': 'Mon, 11 Sep 2023 14...  \n",
              "14  {'{DAV:}getlastmodified': 'Mon, 11 Sep 2023 14...  \n",
              "15  {'{DAV:}getlastmodified': 'Mon, 11 Sep 2023 14...  \n",
              "16  {'{DAV:}getlastmodified': 'Mon, 11 Sep 2023 14...  \n",
              "17  {'{DAV:}getlastmodified': 'Mon, 11 Sep 2023 14...  \n",
              "18  {'{DAV:}getlastmodified': 'Mon, 11 Sep 2023 14...  \n",
              "19  {'{DAV:}getlastmodified': 'Mon, 11 Sep 2023 14...  \n",
              "20  {'{DAV:}getlastmodified': 'Mon, 11 Sep 2023 14...  \n",
              "21  {'{DAV:}getlastmodified': 'Mon, 11 Sep 2023 14...  \n",
              "22  {'{DAV:}getlastmodified': 'Mon, 11 Sep 2023 14...  \n",
              "23  {'{DAV:}getlastmodified': 'Mon, 11 Sep 2023 14...  "
            ]
          },
          "execution_count": 11,
          "metadata": {},
          "output_type": "execute_result"
        }
      ],
      "source": [
        "folder_path = 'ehv/platform2.1/20230428/'\n",
        "dh.list_files(folder_path)"
      ]
    },
    {
      "cell_type": "markdown",
      "metadata": {
        "id": "fpEEfhNL3p2I"
      },
      "source": [
        "We can use the datahandler to read one of the files."
      ]
    },
    {
      "cell_type": "code",
      "execution_count": null,
      "metadata": {
        "id": "TB4PKHNu3p2J",
        "outputId": "c7e49ed3-7bdb-4021-c3d4-c864fc269980"
      },
      "outputs": [
        {
          "name": "stdout",
          "output_type": "stream",
          "text": [
            "trying to fetch: /storage/surfsara/ProRail_USE_LL_data/ehv/platform2.1/20230428/EHV_Platform2.1_2023042819_trajectorie.parquet\n",
            "data fetched. Accessible as <this-object>.df\n"
          ]
        },
        {
          "data": {
            "text/html": [
              "<div>\n",
              "<style scoped>\n",
              "    .dataframe tbody tr th:only-of-type {\n",
              "        vertical-align: middle;\n",
              "    }\n",
              "\n",
              "    .dataframe tbody tr th {\n",
              "        vertical-align: top;\n",
              "    }\n",
              "\n",
              "    .dataframe thead th {\n",
              "        text-align: right;\n",
              "    }\n",
              "</style>\n",
              "<table border=\"1\" class=\"dataframe\">\n",
              "  <thead>\n",
              "    <tr style=\"text-align: right;\">\n",
              "      <th></th>\n",
              "      <th>date_time_utc</th>\n",
              "      <th>tracked_object</th>\n",
              "      <th>x_pos</th>\n",
              "      <th>y_pos</th>\n",
              "      <th>datetime</th>\n",
              "    </tr>\n",
              "  </thead>\n",
              "  <tbody>\n",
              "    <tr>\n",
              "      <th>0</th>\n",
              "      <td>1.682701e+12</td>\n",
              "      <td>13876369</td>\n",
              "      <td>-3439.0</td>\n",
              "      <td>61644.0</td>\n",
              "      <td>2023-04-28 19:00:00+02:00</td>\n",
              "    </tr>\n",
              "    <tr>\n",
              "      <th>1</th>\n",
              "      <td>1.682701e+12</td>\n",
              "      <td>13877889</td>\n",
              "      <td>-2539.0</td>\n",
              "      <td>63361.0</td>\n",
              "      <td>2023-04-28 19:00:00+02:00</td>\n",
              "    </tr>\n",
              "    <tr>\n",
              "      <th>2</th>\n",
              "      <td>1.682701e+12</td>\n",
              "      <td>13877975</td>\n",
              "      <td>646.0</td>\n",
              "      <td>50268.0</td>\n",
              "      <td>2023-04-28 19:00:00+02:00</td>\n",
              "    </tr>\n",
              "    <tr>\n",
              "      <th>3</th>\n",
              "      <td>1.682701e+12</td>\n",
              "      <td>13877976</td>\n",
              "      <td>-3952.0</td>\n",
              "      <td>9838.0</td>\n",
              "      <td>2023-04-28 19:00:00+02:00</td>\n",
              "    </tr>\n",
              "    <tr>\n",
              "      <th>4</th>\n",
              "      <td>1.682701e+12</td>\n",
              "      <td>13876369</td>\n",
              "      <td>-3436.0</td>\n",
              "      <td>61644.0</td>\n",
              "      <td>2023-04-28 19:00:00.100000+02:00</td>\n",
              "    </tr>\n",
              "  </tbody>\n",
              "</table>\n",
              "</div>"
            ],
            "text/plain": [
              "   date_time_utc  tracked_object   x_pos    y_pos  \\\n",
              "0   1.682701e+12        13876369 -3439.0  61644.0   \n",
              "1   1.682701e+12        13877889 -2539.0  63361.0   \n",
              "2   1.682701e+12        13877975   646.0  50268.0   \n",
              "3   1.682701e+12        13877976 -3952.0   9838.0   \n",
              "4   1.682701e+12        13876369 -3436.0  61644.0   \n",
              "\n",
              "                          datetime  \n",
              "0        2023-04-28 19:00:00+02:00  \n",
              "1        2023-04-28 19:00:00+02:00  \n",
              "2        2023-04-28 19:00:00+02:00  \n",
              "3        2023-04-28 19:00:00+02:00  \n",
              "4 2023-04-28 19:00:00.100000+02:00  "
            ]
          },
          "execution_count": 12,
          "metadata": {},
          "output_type": "execute_result"
        }
      ],
      "source": [
        "file_target = \"EHV_Platform2.1_2023042819_trajectorie.parquet\"\n",
        "file_path = folder_path + file_target\n",
        "dh.fetch_prorail_data_from_path(file_path) # Read the data\n",
        "dh.df.head() # Display first 5 rows"
      ]
    },
    {
      "cell_type": "markdown",
      "metadata": {
        "id": "U_jRn82V3p2L"
      },
      "source": [
        "For more advanced usage, please refer to the notebook `trajectory_analysis.ipynb`."
      ]
    },
    {
      "cell_type": "markdown",
      "metadata": {
        "id": "2Fuaj-HU3p2L"
      },
      "source": [
        "#### Example Druyfkens data"
      ]
    },
    {
      "cell_type": "markdown",
      "metadata": {
        "id": "vmU0Id5I3p2L"
      },
      "source": [
        "We can do a similar thing for the stockprice data provide by Druyfkens."
      ]
    },
    {
      "cell_type": "code",
      "execution_count": null,
      "metadata": {
        "id": "OjEfaZ2h3p2M",
        "outputId": "c4ffab55-cad8-4fc0-e28a-a8ddf0a93b2b"
      },
      "outputs": [
        {
          "name": "stdout",
          "output_type": "stream",
          "text": [
            "targeting path /storage/surfsara/ProRail_USE_LL_data/econophysics/prices\n",
            "Files listed. Accessible as <this-object>.filelist\n"
          ]
        },
        {
          "data": {
            "text/html": [
              "<div>\n",
              "<style scoped>\n",
              "    .dataframe tbody tr th:only-of-type {\n",
              "        vertical-align: middle;\n",
              "    }\n",
              "\n",
              "    .dataframe tbody tr th {\n",
              "        vertical-align: top;\n",
              "    }\n",
              "\n",
              "    .dataframe thead th {\n",
              "        text-align: right;\n",
              "    }\n",
              "</style>\n",
              "<table border=\"1\" class=\"dataframe\">\n",
              "  <thead>\n",
              "    <tr style=\"text-align: right;\">\n",
              "      <th></th>\n",
              "      <th>path</th>\n",
              "      <th>name</th>\n",
              "      <th>attributes</th>\n",
              "    </tr>\n",
              "  </thead>\n",
              "  <tbody>\n",
              "    <tr>\n",
              "      <th>0</th>\n",
              "      <td>/storage/surfsara/ProRail_USE_LL_data/econophy...</td>\n",
              "      <td>daily_close_prices.csv</td>\n",
              "      <td>{'{DAV:}getlastmodified': 'Fri, 16 Jul 2021 08...</td>\n",
              "    </tr>\n",
              "    <tr>\n",
              "      <th>1</th>\n",
              "      <td>/storage/surfsara/ProRail_USE_LL_data/econophy...</td>\n",
              "      <td>daily_open_prices.csv</td>\n",
              "      <td>{'{DAV:}getlastmodified': 'Fri, 16 Jul 2021 08...</td>\n",
              "    </tr>\n",
              "    <tr>\n",
              "      <th>2</th>\n",
              "      <td>/storage/surfsara/ProRail_USE_LL_data/econophy...</td>\n",
              "      <td>hourly_prices.csv</td>\n",
              "      <td>{'{DAV:}getlastmodified': 'Fri, 16 Jul 2021 08...</td>\n",
              "    </tr>\n",
              "  </tbody>\n",
              "</table>\n",
              "</div>"
            ],
            "text/plain": [
              "                                                path                    name  \\\n",
              "0  /storage/surfsara/ProRail_USE_LL_data/econophy...  daily_close_prices.csv   \n",
              "1  /storage/surfsara/ProRail_USE_LL_data/econophy...   daily_open_prices.csv   \n",
              "2  /storage/surfsara/ProRail_USE_LL_data/econophy...       hourly_prices.csv   \n",
              "\n",
              "                                          attributes  \n",
              "0  {'{DAV:}getlastmodified': 'Fri, 16 Jul 2021 08...  \n",
              "1  {'{DAV:}getlastmodified': 'Fri, 16 Jul 2021 08...  \n",
              "2  {'{DAV:}getlastmodified': 'Fri, 16 Jul 2021 08...  "
            ]
          },
          "execution_count": 17,
          "metadata": {},
          "output_type": "execute_result"
        }
      ],
      "source": [
        "folder_path = 'econophysics/prices'\n",
        "dh.list_files(folder_path)"
      ]
    },
    {
      "cell_type": "code",
      "execution_count": null,
      "metadata": {
        "id": "1EsLwDL_3p2h",
        "outputId": "fb6bc8eb-c30f-4c6c-be9c-8176c7395d41"
      },
      "outputs": [
        {
          "name": "stdout",
          "output_type": "stream",
          "text": [
            "trying to fetch: /storage/surfsara/ProRail_USE_LL_data/econophysics/prices/daily_open_prices.csv\n",
            "data fetched. Accessible as <this-object>.df\n"
          ]
        },
        {
          "data": {
            "text/html": [
              "<div>\n",
              "<style scoped>\n",
              "    .dataframe tbody tr th:only-of-type {\n",
              "        vertical-align: middle;\n",
              "    }\n",
              "\n",
              "    .dataframe tbody tr th {\n",
              "        vertical-align: top;\n",
              "    }\n",
              "\n",
              "    .dataframe thead th {\n",
              "        text-align: right;\n",
              "    }\n",
              "</style>\n",
              "<table border=\"1\" class=\"dataframe\">\n",
              "  <thead>\n",
              "    <tr style=\"text-align: right;\">\n",
              "      <th></th>\n",
              "      <th>BBBY</th>\n",
              "      <th>NOKIA</th>\n",
              "      <th>AMC</th>\n",
              "      <th>VIAC</th>\n",
              "      <th>FIZZ</th>\n",
              "      <th>GME</th>\n",
              "      <th>AAPL</th>\n",
              "      <th>LGND</th>\n",
              "    </tr>\n",
              "  </thead>\n",
              "  <tbody>\n",
              "    <tr>\n",
              "      <th>2020-09-01</th>\n",
              "      <td>12.06</td>\n",
              "      <td>4.106</td>\n",
              "      <td>5.79</td>\n",
              "      <td>26.999016</td>\n",
              "      <td>37.947065</td>\n",
              "      <td>7.27</td>\n",
              "      <td>132.258470</td>\n",
              "      <td>101.75</td>\n",
              "    </tr>\n",
              "    <tr>\n",
              "      <th>2020-09-02</th>\n",
              "      <td>13.13</td>\n",
              "      <td>3.968</td>\n",
              "      <td>7.00</td>\n",
              "      <td>26.989247</td>\n",
              "      <td>39.243438</td>\n",
              "      <td>7.78</td>\n",
              "      <td>136.905577</td>\n",
              "      <td>101.73</td>\n",
              "    </tr>\n",
              "    <tr>\n",
              "      <th>2020-09-03</th>\n",
              "      <td>12.39</td>\n",
              "      <td>4.035</td>\n",
              "      <td>6.95</td>\n",
              "      <td>27.731623</td>\n",
              "      <td>38.999194</td>\n",
              "      <td>7.90</td>\n",
              "      <td>126.347588</td>\n",
              "      <td>102.58</td>\n",
              "    </tr>\n",
              "    <tr>\n",
              "      <th>2020-09-04</th>\n",
              "      <td>12.04</td>\n",
              "      <td>3.810</td>\n",
              "      <td>6.73</td>\n",
              "      <td>27.751159</td>\n",
              "      <td>38.773738</td>\n",
              "      <td>7.78</td>\n",
              "      <td>119.411755</td>\n",
              "      <td>98.73</td>\n",
              "    </tr>\n",
              "    <tr>\n",
              "      <th>2020-09-07</th>\n",
              "      <td>NaN</td>\n",
              "      <td>3.726</td>\n",
              "      <td>NaN</td>\n",
              "      <td>NaN</td>\n",
              "      <td>NaN</td>\n",
              "      <td>NaN</td>\n",
              "      <td>NaN</td>\n",
              "      <td>NaN</td>\n",
              "    </tr>\n",
              "  </tbody>\n",
              "</table>\n",
              "</div>"
            ],
            "text/plain": [
              "             BBBY  NOKIA   AMC       VIAC       FIZZ   GME        AAPL    LGND\n",
              "2020-09-01  12.06  4.106  5.79  26.999016  37.947065  7.27  132.258470  101.75\n",
              "2020-09-02  13.13  3.968  7.00  26.989247  39.243438  7.78  136.905577  101.73\n",
              "2020-09-03  12.39  4.035  6.95  27.731623  38.999194  7.90  126.347588  102.58\n",
              "2020-09-04  12.04  3.810  6.73  27.751159  38.773738  7.78  119.411755   98.73\n",
              "2020-09-07    NaN  3.726   NaN        NaN        NaN   NaN         NaN     NaN"
            ]
          },
          "execution_count": 23,
          "metadata": {},
          "output_type": "execute_result"
        }
      ],
      "source": [
        "dh.fetch_econophysics_data_from_path(\"econophysics/prices/daily_open_prices.csv\") # Read the data\n",
        "dh.df.head() # Display first 5 rows"
      ]
    },
    {
      "cell_type": "markdown",
      "metadata": {
        "id": "HrGxTclT3p2n"
      },
      "source": [
        "For more advance usage we refer to the notebooks in this repo https://github.com/ValerioGemm/socioPhysicsTUe_econ."
      ]
    }
  ],
  "metadata": {
    "colab": {
      "name": "sociophysicsDataHandler-package.ipynb",
      "provenance": [],
      "toc_visible": true
    },
    "kernelspec": {
      "display_name": "Python 3",
      "language": "python",
      "name": "python3"
    },
    "language_info": {
      "codemirror_mode": {
        "name": "ipython",
        "version": 3
      },
      "file_extension": ".py",
      "mimetype": "text/x-python",
      "name": "python",
      "nbconvert_exporter": "python",
      "pygments_lexer": "ipython3",
      "version": "3.11.0"
    }
  },
  "nbformat": 4,
  "nbformat_minor": 0
}